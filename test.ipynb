{
 "cells": [
  {
   "cell_type": "code",
   "execution_count": 3,
   "metadata": {},
   "outputs": [],
   "source": [
    "import os\n",
    "path1 = '/home/scarlett/Samarth/data'    \n",
    "\n",
    "list_with_many_images = []      \n",
    "listing = os.listdir(path1)    \n",
    "for file in listing:\n",
    "    path = path1 + '/' + file    \n",
    "    list_with_many_images.append(path)"
   ]
  },
  {
   "cell_type": "code",
   "execution_count": 4,
   "metadata": {},
   "outputs": [
    {
     "data": {
      "text/plain": [
       "['/home/scarlett/Samarth/data/frame125.jpg',\n",
       " '/home/scarlett/Samarth/data/frame10.jpg',\n",
       " '/home/scarlett/Samarth/data/frame35.jpg',\n",
       " '/home/scarlett/Samarth/data/frame120.jpg',\n",
       " '/home/scarlett/Samarth/data/frame150.jpg',\n",
       " '/home/scarlett/Samarth/data/frame195.jpg',\n",
       " '/home/scarlett/Samarth/data/frame165.jpg',\n",
       " '/home/scarlett/Samarth/data/frame15.jpg',\n",
       " '/home/scarlett/Samarth/data/frame5.jpg',\n",
       " '/home/scarlett/Samarth/data/frame210.jpg',\n",
       " '/home/scarlett/Samarth/data/frame55.jpg',\n",
       " '/home/scarlett/Samarth/data/frame230.jpg',\n",
       " '/home/scarlett/Samarth/data/frame235.jpg',\n",
       " '/home/scarlett/Samarth/data/frame180.jpg',\n",
       " '/home/scarlett/Samarth/data/frame155.jpg',\n",
       " '/home/scarlett/Samarth/data/frame110.jpg',\n",
       " '/home/scarlett/Samarth/data/frame40.jpg',\n",
       " '/home/scarlett/Samarth/data/frame225.jpg',\n",
       " '/home/scarlett/Samarth/data/frame140.jpg',\n",
       " '/home/scarlett/Samarth/data/frame70.jpg',\n",
       " '/home/scarlett/Samarth/data/frame145.jpg',\n",
       " '/home/scarlett/Samarth/data/frame250.jpg',\n",
       " '/home/scarlett/Samarth/data/frame170.jpg',\n",
       " '/home/scarlett/Samarth/data/frame185.jpg',\n",
       " '/home/scarlett/Samarth/data/frame85.jpg',\n",
       " '/home/scarlett/Samarth/data/frame245.jpg',\n",
       " '/home/scarlett/Samarth/data/frame130.jpg',\n",
       " '/home/scarlett/Samarth/data/frame220.jpg',\n",
       " '/home/scarlett/Samarth/data/frame240.jpg',\n",
       " '/home/scarlett/Samarth/data/frame45.jpg',\n",
       " '/home/scarlett/Samarth/data/frame160.jpg',\n",
       " '/home/scarlett/Samarth/data/frame20.jpg',\n",
       " '/home/scarlett/Samarth/data/frame205.jpg',\n",
       " '/home/scarlett/Samarth/data/frame60.jpg',\n",
       " '/home/scarlett/Samarth/data/frame80.jpg',\n",
       " '/home/scarlett/Samarth/data/frame135.jpg',\n",
       " '/home/scarlett/Samarth/data/frame190.jpg',\n",
       " '/home/scarlett/Samarth/data/frame95.jpg',\n",
       " '/home/scarlett/Samarth/data/frame25.jpg',\n",
       " '/home/scarlett/Samarth/data/frame115.jpg',\n",
       " '/home/scarlett/Samarth/data/frame75.jpg',\n",
       " '/home/scarlett/Samarth/data/frame175.jpg',\n",
       " '/home/scarlett/Samarth/data/frame30.jpg',\n",
       " '/home/scarlett/Samarth/data/frame200.jpg',\n",
       " '/home/scarlett/Samarth/data/frame100.jpg',\n",
       " '/home/scarlett/Samarth/data/frame0.jpg',\n",
       " '/home/scarlett/Samarth/data/frame65.jpg',\n",
       " '/home/scarlett/Samarth/data/frame50.jpg',\n",
       " '/home/scarlett/Samarth/data/frame90.jpg',\n",
       " '/home/scarlett/Samarth/data/frame215.jpg',\n",
       " '/home/scarlett/Samarth/data/frame105.jpg']"
      ]
     },
     "execution_count": 4,
     "metadata": {},
     "output_type": "execute_result"
    }
   ],
   "source": [
    "list_with_many_images"
   ]
  },
  {
   "cell_type": "code",
   "execution_count": null,
   "metadata": {},
   "outputs": [],
   "source": [
    "/home/scarlett/Samarth/data/frame120.jpg"
   ]
  }
 ],
 "metadata": {
  "kernelspec": {
   "display_name": "Python 3.8.10 ('cv2': venv)",
   "language": "python",
   "name": "python3"
  },
  "language_info": {
   "codemirror_mode": {
    "name": "ipython",
    "version": 3
   },
   "file_extension": ".py",
   "mimetype": "text/x-python",
   "name": "python",
   "nbconvert_exporter": "python",
   "pygments_lexer": "ipython3",
   "version": "3.8.10"
  },
  "orig_nbformat": 4,
  "vscode": {
   "interpreter": {
    "hash": "27c587e48f53545ec323dcd6e0b4ce4ee9fbc1acee69536732e69a94b6cef7a7"
   }
  }
 },
 "nbformat": 4,
 "nbformat_minor": 2
}
